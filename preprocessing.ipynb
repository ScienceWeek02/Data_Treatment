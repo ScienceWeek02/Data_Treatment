{
 "cells": [
  {
   "cell_type": "code",
   "execution_count": 2,
   "id": "583213b4-8615-467d-814a-305d6f96d97f",
   "metadata": {},
   "outputs": [
    {
     "name": "stdout",
     "output_type": "stream",
     "text": [
      "Collecting pandas\n",
      "  Downloading pandas-2.2.3-cp312-cp312-manylinux_2_17_x86_64.manylinux2014_x86_64.whl.metadata (89 kB)\n",
      "\u001b[2K     \u001b[38;2;114;156;31m━━━━━━━━━━━━━━━━━━━━━━━━━━━━━━━━━━━━━━━\u001b[0m \u001b[32m89.9/89.9 kB\u001b[0m \u001b[31m221.3 kB/s\u001b[0m eta \u001b[36m0:00:00\u001b[0m1m450.8 kB/s\u001b[0m eta \u001b[36m0:00:01\u001b[0m\n",
      "\u001b[?25hCollecting numpy>=1.26.0 (from pandas)\n",
      "  Downloading numpy-2.2.4-cp312-cp312-manylinux_2_17_x86_64.manylinux2014_x86_64.whl.metadata (62 kB)\n",
      "\u001b[2K     \u001b[38;2;114;156;31m━━━━━━━━━━━━━━━━━━━━━━━━━━━━━━━━━━━━━━━\u001b[0m \u001b[32m62.0/62.0 kB\u001b[0m \u001b[31m245.4 kB/s\u001b[0m eta \u001b[36m0:00:00\u001b[0mMB/s\u001b[0m eta \u001b[36m0:00:01\u001b[0m\n",
      "\u001b[?25hRequirement already satisfied: python-dateutil>=2.8.2 in /home/mouadrguibi/jupyter-env/lib/python3.12/site-packages (from pandas) (2.9.0.post0)\n",
      "Collecting pytz>=2020.1 (from pandas)\n",
      "  Downloading pytz-2025.2-py2.py3-none-any.whl.metadata (22 kB)\n",
      "Collecting tzdata>=2022.7 (from pandas)\n",
      "  Downloading tzdata-2025.2-py2.py3-none-any.whl.metadata (1.4 kB)\n",
      "Requirement already satisfied: six>=1.5 in /home/mouadrguibi/jupyter-env/lib/python3.12/site-packages (from python-dateutil>=2.8.2->pandas) (1.17.0)\n",
      "Downloading pandas-2.2.3-cp312-cp312-manylinux_2_17_x86_64.manylinux2014_x86_64.whl (12.7 MB)\n",
      "\u001b[2K   \u001b[38;2;114;156;31m━━━━━━━━━━━━━━━━━━━━━━━━━━━━━━━━━━━━━━━━\u001b[0m \u001b[32m12.7/12.7 MB\u001b[0m \u001b[31m975.4 kB/s\u001b[0m eta \u001b[36m0:00:00\u001b[0mm eta \u001b[36m0:00:01\u001b[0m[36m0:00:01\u001b[0m\n",
      "\u001b[?25hDownloading numpy-2.2.4-cp312-cp312-manylinux_2_17_x86_64.manylinux2014_x86_64.whl (16.1 MB)\n",
      "\u001b[2K   \u001b[38;2;114;156;31m━━━━━━━━━━━━━━━━━━━━━━━━━━━━━━━━━━━━━━━━\u001b[0m \u001b[32m16.1/16.1 MB\u001b[0m \u001b[31m927.1 kB/s\u001b[0m eta \u001b[36m0:00:00\u001b[0mm eta \u001b[36m0:00:01\u001b[0m[36m0:00:01\u001b[0m\n",
      "\u001b[?25hDownloading pytz-2025.2-py2.py3-none-any.whl (509 kB)\n",
      "\u001b[2K   \u001b[38;2;114;156;31m━━━━━━━━━━━━━━━━━━━━━━━━━━━━━━━━━━━━━━━\u001b[0m \u001b[32m509.2/509.2 kB\u001b[0m \u001b[31m516.8 kB/s\u001b[0m eta \u001b[36m0:00:00\u001b[0m1m501.3 kB/s\u001b[0m eta \u001b[36m0:00:01\u001b[0m\n",
      "\u001b[?25hDownloading tzdata-2025.2-py2.py3-none-any.whl (347 kB)\n",
      "\u001b[2K   \u001b[38;2;114;156;31m━━━━━━━━━━━━━━━━━━━━━━━━━━━━━━━━━━━━━━━━\u001b[0m \u001b[32m347.8/347.8 kB\u001b[0m \u001b[31m1.3 MB/s\u001b[0m eta \u001b[36m0:00:00\u001b[0m MB/s\u001b[0m eta \u001b[36m0:00:01\u001b[0m:01\u001b[0m\n",
      "\u001b[?25hInstalling collected packages: pytz, tzdata, numpy, pandas\n",
      "Successfully installed numpy-2.2.4 pandas-2.2.3 pytz-2025.2 tzdata-2025.2\n",
      "Note: you may need to restart the kernel to use updated packages.\n"
     ]
    }
   ],
   "source": [
    "pip install pandas\n"
   ]
  },
  {
   "cell_type": "code",
   "execution_count": 2,
   "id": "40b9740e-c281-44d8-94ee-c7a55238bb74",
   "metadata": {},
   "outputs": [],
   "source": [
    "import pandas as pdimport pandas as pd\n"
   ]
  },
  {
   "cell_type": "code",
   "execution_count": 8,
   "id": "18916e1f-9546-4fae-8f93-e14b076e433d",
   "metadata": {},
   "outputs": [
    {
     "ename": "ModuleNotFoundError",
     "evalue": "No module named 'dask'",
     "output_type": "error",
     "traceback": [
      "\u001b[31m---------------------------------------------------------------------------\u001b[39m",
      "\u001b[31mModuleNotFoundError\u001b[39m                       Traceback (most recent call last)",
      "\u001b[36mCell\u001b[39m\u001b[36m \u001b[39m\u001b[32mIn[8]\u001b[39m\u001b[32m, line 1\u001b[39m\n\u001b[32m----> \u001b[39m\u001b[32m1\u001b[39m \u001b[38;5;28;01mimport\u001b[39;00m\u001b[38;5;250m \u001b[39m\u001b[34;01mdask\u001b[39;00m\u001b[34;01m.\u001b[39;00m\u001b[34;01mdataframe\u001b[39;00m\u001b[38;5;250m \u001b[39m\u001b[38;5;28;01mas\u001b[39;00m\u001b[38;5;250m \u001b[39m\u001b[34;01mdd\u001b[39;00m\n",
      "\u001b[31mModuleNotFoundError\u001b[39m: No module named 'dask'"
     ]
    }
   ],
   "source": [
    "import dask.dataframe as dd"
   ]
  },
  {
   "cell_type": "code",
   "execution_count": 9,
   "id": "69a83367-13e1-4db0-bc0e-b47e855ee360",
   "metadata": {},
   "outputs": [
    {
     "name": "stdout",
     "output_type": "stream",
     "text": [
      "Collecting dask\n",
      "  Downloading dask-2025.3.0-py3-none-any.whl.metadata (3.8 kB)\n",
      "Collecting click>=8.1 (from dask)\n",
      "  Downloading click-8.1.8-py3-none-any.whl.metadata (2.3 kB)\n",
      "Collecting cloudpickle>=3.0.0 (from dask)\n",
      "  Downloading cloudpickle-3.1.1-py3-none-any.whl.metadata (7.1 kB)\n",
      "Collecting fsspec>=2021.09.0 (from dask)\n",
      "  Downloading fsspec-2025.3.0-py3-none-any.whl.metadata (11 kB)\n",
      "Requirement already satisfied: packaging>=20.0 in /home/mouadrguibi/jupyter-env/lib/python3.12/site-packages (from dask) (24.2)\n",
      "Collecting partd>=1.4.0 (from dask)\n",
      "  Downloading partd-1.4.2-py3-none-any.whl.metadata (4.6 kB)\n",
      "Requirement already satisfied: pyyaml>=5.3.1 in /home/mouadrguibi/jupyter-env/lib/python3.12/site-packages (from dask) (6.0.2)\n",
      "Collecting toolz>=0.10.0 (from dask)\n",
      "  Downloading toolz-1.0.0-py3-none-any.whl.metadata (5.1 kB)\n",
      "Collecting locket (from partd>=1.4.0->dask)\n",
      "  Downloading locket-1.0.0-py2.py3-none-any.whl.metadata (2.8 kB)\n",
      "Downloading dask-2025.3.0-py3-none-any.whl (1.4 MB)\n",
      "\u001b[2K   \u001b[38;2;114;156;31m━━━━━━━━━━━━━━━━━━━━━━━━━━━━━━━━━━━━━━━━\u001b[0m \u001b[32m1.4/1.4 MB\u001b[0m \u001b[31m319.3 kB/s\u001b[0m eta \u001b[36m0:00:00\u001b[0m[36m0:00:01\u001b[0m[36m0:00:01\u001b[0m:01\u001b[0m\n",
      "\u001b[?25hDownloading click-8.1.8-py3-none-any.whl (98 kB)\n",
      "\u001b[2K   \u001b[38;2;114;156;31m━━━━━━━━━━━━━━━━━━━━━━━━━━━━━━━━━━━━━━━━\u001b[0m \u001b[32m98.2/98.2 kB\u001b[0m \u001b[31m255.4 kB/s\u001b[0m eta \u001b[36m0:00:00\u001b[0m kB/s\u001b[0m eta \u001b[36m0:00:01\u001b[0m:01\u001b[0m\n",
      "\u001b[?25hDownloading cloudpickle-3.1.1-py3-none-any.whl (20 kB)\n",
      "Downloading fsspec-2025.3.0-py3-none-any.whl (193 kB)\n",
      "\u001b[2K   \u001b[38;2;114;156;31m━━━━━━━━━━━━━━━━━━━━━━━━━━━━━━━━━━━━━━━\u001b[0m \u001b[32m193.6/193.6 kB\u001b[0m \u001b[31m508.6 kB/s\u001b[0m eta \u001b[36m0:00:00\u001b[0m kB/s\u001b[0m eta \u001b[36m0:00:01\u001b[0m:01\u001b[0m\n",
      "\u001b[?25hDownloading partd-1.4.2-py3-none-any.whl (18 kB)\n",
      "Downloading toolz-1.0.0-py3-none-any.whl (56 kB)\n",
      "\u001b[2K   \u001b[38;2;114;156;31m━━━━━━━━━━━━━━━━━━━━━━━━━━━━━━━━━━━━━━━━\u001b[0m \u001b[32m56.4/56.4 kB\u001b[0m \u001b[31m10.3 MB/s\u001b[0m eta \u001b[36m0:00:00\u001b[0m\n",
      "\u001b[?25hDownloading locket-1.0.0-py2.py3-none-any.whl (4.4 kB)\n",
      "Installing collected packages: toolz, locket, fsspec, cloudpickle, click, partd, dask\n",
      "Successfully installed click-8.1.8 cloudpickle-3.1.1 dask-2025.3.0 fsspec-2025.3.0 locket-1.0.0 partd-1.4.2 toolz-1.0.0\n",
      "Note: you may need to restart the kernel to use updated packages.\n"
     ]
    }
   ],
   "source": [
    "pip install dask\n"
   ]
  },
  {
   "cell_type": "code",
   "execution_count": null,
   "id": "222a941f-7d6f-4f9d-a927-1614cc556cde",
   "metadata": {},
   "outputs": [
    {
     "name": "stdout",
     "output_type": "stream",
     "text": [
      "Collecting pyarrow\n",
      "  Downloading pyarrow-19.0.1-cp312-cp312-manylinux_2_28_x86_64.whl.metadata (3.3 kB)\n",
      "Downloading pyarrow-19.0.1-cp312-cp312-manylinux_2_28_x86_64.whl (42.1 MB)\n",
      "\u001b[2K   \u001b[38;2;249;38;114m━━━━━━━━━━━━━━━━━━━━━━━━━\u001b[0m\u001b[38;5;237m╺\u001b[0m\u001b[38;5;237m━━━━━━━━━━━━━━\u001b[0m \u001b[32m26.6/42.1 MB\u001b[0m \u001b[31m707.5 kB/s\u001b[0m eta \u001b[36m0:00:22\u001b[0m:23\u001b[0m"
     ]
    }
   ],
   "source": [
    "pip install pyarrow"
   ]
  },
  {
   "cell_type": "code",
   "execution_count": 1,
   "id": "2c3e209b-5e36-4cb0-a8ba-948b082e24d2",
   "metadata": {},
   "outputs": [],
   "source": [
    "import pandas as pd"
   ]
  },
  {
   "cell_type": "code",
   "execution_count": 2,
   "id": "85ecfca7-7bc3-476d-8372-aa2a68910b50",
   "metadata": {},
   "outputs": [
    {
     "name": "stdout",
     "output_type": "stream",
     "text": [
      "Colonnes du dataset: Index(['Channel_1', 'Channel_2', 'Channel_3', 'Channel_4', 'Channel_5',\n",
      "       'Channel_6', 'Channel_7', 'Channel_8', 'Channel_9', 'Channel_10',\n",
      "       ...\n",
      "       'Channel_36856', 'Channel_36857', 'Channel_36858', 'Channel_36859',\n",
      "       'Channel_36860', 'Channel_36861', 'Channel_36862', 'Channel_36863',\n",
      "       'Channel_36864', 'target'],\n",
      "      dtype='object', length=36865)\n",
      "   Channel_1  Channel_2  Channel_3  Channel_4  Channel_5  Channel_6  \\\n",
      "0      0.647      0.149     -0.213     -0.199     -0.287     -0.187   \n",
      "1     -2.450     -2.788     -2.387     -1.370     -1.032     -1.037   \n",
      "2     -0.026     -0.123     -0.347     -0.348      0.027      0.162   \n",
      "3     -0.067     -0.153     -0.180     -0.210     -0.238     -0.183   \n",
      "4     -0.190     -0.299     -0.333     -0.199      0.182      0.261   \n",
      "\n",
      "   Channel_7  Channel_8  Channel_9  Channel_10  ...  Channel_36856  \\\n",
      "0      0.320      0.445      0.482       0.348  ...          0.076   \n",
      "1     -1.253     -1.702     -2.116      -2.019  ...          0.154   \n",
      "2      0.166     -0.045     -0.083      -0.037  ...          0.086   \n",
      "3     -0.147     -0.238     -0.305      -0.187  ...         -0.101   \n",
      "4      0.262     -0.075     -0.403      -0.232  ...          0.621   \n",
      "\n",
      "   Channel_36857  Channel_36858  Channel_36859  Channel_36860  Channel_36861  \\\n",
      "0          0.283          0.365         -0.013         -0.029          0.223   \n",
      "1         -0.023         -0.085          0.178          0.118         -0.030   \n",
      "2          0.262          0.319          0.028          0.144          0.255   \n",
      "3         -0.247         -0.271         -0.216         -0.144         -0.066   \n",
      "4          0.625          0.262          0.127          0.301          0.287   \n",
      "\n",
      "   Channel_36862  Channel_36863  Channel_36864  target  \n",
      "0          0.221          0.175          0.347       0  \n",
      "1          0.048          0.113          0.085       0  \n",
      "2          0.148          0.082          0.133       0  \n",
      "3          0.048         -0.127         -0.296       0  \n",
      "4          0.148          0.191          0.106       0  \n",
      "\n",
      "[5 rows x 36865 columns]\n"
     ]
    }
   ],
   "source": [
    "chunk_size = 1000  # Lire 1000 lignes à la fois\n",
    "file_path =\"/home/mouadrguibi/Downloads/EEG_Scaled_data.csv\"  # Remplace par le chemin réel\n",
    "\n",
    "df_sample = pd.read_csv(file_path, nrows=5)\n",
    "print(\"Colonnes du dataset:\", df_sample.columns)\n",
    "print(df_sample.head())\n"
   ]
  },
  {
   "cell_type": "code",
   "execution_count": 4,
   "id": "48835cc4-693e-4101-8e04-a582d16ee975",
   "metadata": {},
   "outputs": [
    {
     "name": "stdout",
     "output_type": "stream",
     "text": [
      "Non-crise: 9799, Crise: 1434\n"
     ]
    }
   ],
   "source": [
    "# Lire seulement la colonne cible\n",
    "target_col = \"target\"  # Remplace par le vrai nom\n",
    "\n",
    "df_target = pd.read_csv(file_path, usecols=[target_col], chunksize=50000)\n",
    "count_0, count_1 = 0, 0\n",
    "\n",
    "for chunk in df_target:\n",
    "    count_0 += (chunk[target_col] == 0).sum()\n",
    "    count_1 += (chunk[target_col] == 1).sum()\n",
    "\n",
    "print(f\"Non-crise: {count_0}, Crise: {count_1}\")\n"
   ]
  },
  {
   "cell_type": "code",
   "execution_count": 5,
   "id": "42206f22-8436-48df-8ab1-5f830e9672a6",
   "metadata": {},
   "outputs": [
    {
     "name": "stdout",
     "output_type": "stream",
     "text": [
      "Nombre total de valeurs manquantes : 0\n"
     ]
    }
   ],
   "source": [
    "missing_values = pd.read_csv(file_path, nrows=1000).isnull().sum().sum()\n",
    "print(f\"Nombre total de valeurs manquantes : {missing_values}\")\n"
   ]
  }
 ],
 "metadata": {
  "kernelspec": {
   "display_name": "Python 3 (ipykernel)",
   "language": "python",
   "name": "python3"
  },
  "language_info": {
   "codemirror_mode": {
    "name": "ipython",
    "version": 3
   },
   "file_extension": ".py",
   "mimetype": "text/x-python",
   "name": "python",
   "nbconvert_exporter": "python",
   "pygments_lexer": "ipython3",
   "version": "3.12.3"
  }
 },
 "nbformat": 4,
 "nbformat_minor": 5
}
